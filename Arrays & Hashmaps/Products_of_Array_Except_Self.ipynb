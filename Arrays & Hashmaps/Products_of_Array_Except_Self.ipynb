{
 "cells": [
  {
   "cell_type": "markdown",
   "id": "b7245db8-7800-4031-a352-362f48669172",
   "metadata": {},
   "source": [
    "## Products of Array Except Self\n",
    "\n",
    "- Given an integer array nums, return an array output where output[i] is the product of all the elements of nums except nums[i].\n",
    "- Each product is guaranteed to fit in a 32-bit integer.\n",
    "- Follow-up: Could you solve it in O(n) time without using the division operation?\n",
    "\n",
    "Link : https://neetcode.io/problems/products-of-array-discluding-self?list=neetcode150 (Medium)"
   ]
  },
  {
   "cell_type": "code",
   "execution_count": 13,
   "id": "69f2314b-4473-4604-98f0-5e224316d2b4",
   "metadata": {},
   "outputs": [],
   "source": [
    "class ProductExceptSelf:\n",
    "    def solution(self,arr):\n",
    "        output_arr = []\n",
    "        prefix = 1\n",
    "        postfix = 1\n",
    "        for idx,i in enumerate(arr):\n",
    "            output_arr.append(prefix)\n",
    "            prefix = prefix * i\n",
    "        for i in range(len(arr)-1,-1,-1):\n",
    "            output_arr[i] = output_arr[i]*postfix\n",
    "            postfix = postfix*arr[i]\n",
    "        return output_arr\n",
    "            "
   ]
  },
  {
   "cell_type": "code",
   "execution_count": 14,
   "id": "c129509b-ea70-4aa2-bfa1-50c2042c84b3",
   "metadata": {},
   "outputs": [],
   "source": [
    "prod = ProductExceptSelf()\n",
    "op = prod.solution([1,2,3,4])"
   ]
  },
  {
   "cell_type": "code",
   "execution_count": 15,
   "id": "b9e99580-938c-4bfd-aaf9-53e990ea8353",
   "metadata": {},
   "outputs": [
    {
     "data": {
      "text/plain": [
       "[24, 12, 8, 6]"
      ]
     },
     "execution_count": 15,
     "metadata": {},
     "output_type": "execute_result"
    }
   ],
   "source": [
    "op"
   ]
  },
  {
   "cell_type": "code",
   "execution_count": null,
   "id": "a7f72884-8ab4-444b-be27-01628b7a9daf",
   "metadata": {},
   "outputs": [],
   "source": []
  }
 ],
 "metadata": {
  "kernelspec": {
   "display_name": "Python 3 (ipykernel)",
   "language": "python",
   "name": "python3"
  },
  "language_info": {
   "codemirror_mode": {
    "name": "ipython",
    "version": 3
   },
   "file_extension": ".py",
   "mimetype": "text/x-python",
   "name": "python",
   "nbconvert_exporter": "python",
   "pygments_lexer": "ipython3",
   "version": "3.12.4"
  }
 },
 "nbformat": 4,
 "nbformat_minor": 5
}
