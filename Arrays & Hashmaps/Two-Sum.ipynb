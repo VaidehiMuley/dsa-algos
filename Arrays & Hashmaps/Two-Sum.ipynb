{
 "cells": [
  {
   "cell_type": "markdown",
   "id": "4f331e3f-6a9d-4c8c-814c-466f96d9d5f5",
   "metadata": {},
   "source": [
    "## Two sum \n",
    " Given a array, return 2 indices of the element which gives provided target upon adding\n",
    "\n",
    "## Suppose the array is [2,1,5,3] and target is 4\n"
   ]
  },
  {
   "cell_type": "code",
   "execution_count": 1,
   "id": "b48cb63d-e5bf-4140-bb0e-ae89b4f43ca9",
   "metadata": {},
   "outputs": [],
   "source": [
    "class TwoSum:\n",
    "    def __init__(self):\n",
    "        # Create empty dict\n",
    "        self.dict_ = {}\n",
    "\n",
    "    def solution(self, arr, target):\n",
    "        \n",
    "        # Iterate over each element, check if target - element is present in the dict where key is element and value is the index\n",
    "        for idx,i in enumerate(arr):\n",
    "            to_check = target - i\n",
    "            if to_check in self.dict_.keys():\n",
    "                return idx, self.dict_[to_check]\n",
    "            # if not move to next element and add the earlier element to dict\n",
    "            self.dict_[i] = idx\n",
    "                \n",
    "            \n",
    "            \n",
    "\n",
    "\n",
    "\n",
    "\n",
    "# Hence, time complexity = O(n) and memory complexity = O(n) - since we are creating a dict which could potentially have all the elements. \n",
    "#In our example, dict will go till {2,1,5}"
   ]
  },
  {
   "cell_type": "code",
   "execution_count": 4,
   "id": "7f120b06-d9fb-4c27-b725-7dbb98b19fa9",
   "metadata": {},
   "outputs": [],
   "source": [
    "two_sum = TwoSum()\n",
    "a,b = two_sum.solution([3,4,5,6],7)"
   ]
  },
  {
   "cell_type": "code",
   "execution_count": 5,
   "id": "15b4f584-148e-4fc8-8c35-29495dcd0f1d",
   "metadata": {},
   "outputs": [
    {
     "data": {
      "text/plain": [
       "(1, 0)"
      ]
     },
     "execution_count": 5,
     "metadata": {},
     "output_type": "execute_result"
    }
   ],
   "source": [
    "a,b"
   ]
  },
  {
   "cell_type": "code",
   "execution_count": null,
   "id": "e4a47b45-7da0-4b5e-ad68-0cd95b5307a2",
   "metadata": {},
   "outputs": [],
   "source": []
  }
 ],
 "metadata": {
  "kernelspec": {
   "display_name": "Python 3 (ipykernel)",
   "language": "python",
   "name": "python3"
  },
  "language_info": {
   "codemirror_mode": {
    "name": "ipython",
    "version": 3
   },
   "file_extension": ".py",
   "mimetype": "text/x-python",
   "name": "python",
   "nbconvert_exporter": "python",
   "pygments_lexer": "ipython3",
   "version": "3.12.4"
  }
 },
 "nbformat": 4,
 "nbformat_minor": 5
}
