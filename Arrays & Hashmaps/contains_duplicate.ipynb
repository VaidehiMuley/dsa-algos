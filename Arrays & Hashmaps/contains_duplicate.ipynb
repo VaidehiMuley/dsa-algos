{
 "cells": [
  {
   "cell_type": "code",
   "execution_count": 12,
   "id": "a801194e-92c7-471a-8071-f5e5e53b6005",
   "metadata": {},
   "outputs": [],
   "source": [
    "## Check if the given array contains duplicate elements"
   ]
  },
  {
   "cell_type": "code",
   "execution_count": 17,
   "id": "e8fb6254-8cd7-4fb3-8e45-4d4d913299fe",
   "metadata": {},
   "outputs": [],
   "source": [
    "## Time complexity O(n)\n",
    "## Space complexity O(n)"
   ]
  },
  {
   "cell_type": "code",
   "execution_count": 20,
   "id": "abaa5d8e-d235-4be9-8b6d-3bc4f6b20e8f",
   "metadata": {},
   "outputs": [],
   "source": [
    "class CheckDuplicates:\n",
    "    def solution(self,arr):\n",
    "        hashset = set()\n",
    "        for i in arr:\n",
    "            if i in hashset:\n",
    "                return True\n",
    "            hashset.add(i)\n",
    "        return False"
   ]
  },
  {
   "cell_type": "code",
   "execution_count": 21,
   "id": "bd532f21-137d-4b55-916b-853b5adaa780",
   "metadata": {},
   "outputs": [],
   "source": [
    "sol = CheckDuplicates()\n",
    "is_duplicates = sol.solution([1,2,3,3])"
   ]
  },
  {
   "cell_type": "code",
   "execution_count": 22,
   "id": "205eebd0-93a0-4f2b-ae2b-4b7d6f9b9d50",
   "metadata": {},
   "outputs": [
    {
     "data": {
      "text/plain": [
       "True"
      ]
     },
     "execution_count": 22,
     "metadata": {},
     "output_type": "execute_result"
    }
   ],
   "source": [
    "is_duplicates"
   ]
  },
  {
   "cell_type": "code",
   "execution_count": null,
   "id": "653fae86-3e6f-48ae-a35d-b65c3843e654",
   "metadata": {},
   "outputs": [],
   "source": []
  }
 ],
 "metadata": {
  "kernelspec": {
   "display_name": "Python 3 (ipykernel)",
   "language": "python",
   "name": "python3"
  },
  "language_info": {
   "codemirror_mode": {
    "name": "ipython",
    "version": 3
   },
   "file_extension": ".py",
   "mimetype": "text/x-python",
   "name": "python",
   "nbconvert_exporter": "python",
   "pygments_lexer": "ipython3",
   "version": "3.12.4"
  }
 },
 "nbformat": 4,
 "nbformat_minor": 5
}
