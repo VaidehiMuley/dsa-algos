{
 "cells": [
  {
   "cell_type": "markdown",
   "id": "df627c00-498a-4d49-93de-68837101bd18",
   "metadata": {},
   "source": [
    "## Find Minimum in Rotated Sorted Array\n",
    "\n",
    "- You are given an array of length n which was originally sorted in ascending order. It has now been rotated between 1 and n times. \n",
    "- Assuming all elements in the rotated sorted array nums are unique, return the minimum element of this array.\n",
    "- A solution that runs in O(n) time is trivial, can you write an algorithm that runs in O(log n) time?"
   ]
  },
  {
   "cell_type": "code",
   "execution_count": 15,
   "id": "5b0ebebd-3586-4d25-a02b-f64c89868e21",
   "metadata": {},
   "outputs": [],
   "source": [
    "class MinElement:\n",
    "    def solution(self, arr):\n",
    "        left_idx = 0\n",
    "        right_idx = len(arr)-1\n",
    "        \n",
    "        res = arr[0]\n",
    "        while left_idx <= right_idx:\n",
    "            \n",
    "            ## check if array is already sorted, if so update res\n",
    "            if arr[left_idx] < arr[right_idx]:\n",
    "                res = min(res, arr[left_idx])\n",
    "                break\n",
    "\n",
    "            middle_idx = (left_idx + right_idx)//2\n",
    "            res = min(res, arr[middle_idx])\n",
    "\n",
    "            ## If middle is greater than left \n",
    "            if arr[left_idx] <= arr[middle_idx]:\n",
    "                left_idx = middle_idx+1\n",
    "                \n",
    "                ## search in right portion\n",
    "            else :\n",
    "                # search in left portion\n",
    "                right_idx = middle_idx-1\n",
    "        return res"
   ]
  },
  {
   "cell_type": "code",
   "execution_count": 16,
   "id": "7a883435-a16f-4cd9-91a8-5c88dc905286",
   "metadata": {},
   "outputs": [],
   "source": [
    "min_ele = MinElement()\n",
    "minimum_element = min_ele.solution([7,8,1,2,3,4])"
   ]
  },
  {
   "cell_type": "code",
   "execution_count": 17,
   "id": "fea7fa35-e228-4ace-85c3-8e0d44125082",
   "metadata": {},
   "outputs": [
    {
     "data": {
      "text/plain": [
       "1"
      ]
     },
     "execution_count": 17,
     "metadata": {},
     "output_type": "execute_result"
    }
   ],
   "source": [
    "minimum_element"
   ]
  },
  {
   "cell_type": "code",
   "execution_count": null,
   "id": "d49e48b3-199a-4a8b-b72d-25d2fd6402e8",
   "metadata": {},
   "outputs": [],
   "source": []
  }
 ],
 "metadata": {
  "kernelspec": {
   "display_name": "Python 3 (ipykernel)",
   "language": "python",
   "name": "python3"
  },
  "language_info": {
   "codemirror_mode": {
    "name": "ipython",
    "version": 3
   },
   "file_extension": ".py",
   "mimetype": "text/x-python",
   "name": "python",
   "nbconvert_exporter": "python",
   "pygments_lexer": "ipython3",
   "version": "3.12.4"
  }
 },
 "nbformat": 4,
 "nbformat_minor": 5
}
