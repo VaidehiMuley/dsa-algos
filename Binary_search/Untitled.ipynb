{
 "cells": [
  {
   "cell_type": "markdown",
   "id": "bffcf4bb-4772-4af7-8e91-f2d019528cf4",
   "metadata": {},
   "source": [
    "## Search in Rotated Sorted Array\n",
    "\n",
    "You are given an array of length n which was originally sorted in ascending order. It has now been rotated between 1 and n times. For example, the array nums = [1,2,3,4,5,6] might become:\n",
    "\n",
    "Given the rotated sorted array nums and an integer target, return the index of target within nums, or -1 if it is not present.\n",
    "\n",
    "You may assume all elements in the sorted rotated array nums are unique,\n",
    "\n",
    "A solution that runs in O(n) time is trivial, can you write an algorithm that runs in O(log n) time?"
   ]
  },
  {
   "cell_type": "code",
   "execution_count": 2,
   "id": "1cab2e27-716f-43af-9d7e-d2c39a7936ec",
   "metadata": {},
   "outputs": [],
   "source": [
    "\n",
    "def solution(nums, target):\n",
    "    l, r = 0, len(nums)-1\n",
    "    res = -1\n",
    "    while l <= r:\n",
    "        m = (l+r)//2\n",
    "        if target == nums[m]:\n",
    "            return m\n",
    "\n",
    "        ## Left portion is sorted\n",
    "        if nums[l] <= nums[m] :\n",
    "            if (target > nums[m]) or (target < nums[l]):\n",
    "                # check right portion\n",
    "                l = m + 1\n",
    "            else:\n",
    "                r = m -1\n",
    "            \n",
    "        ## Left portion is not sorted, therefore right is sorted\n",
    "        else:\n",
    "            if (target < nums[m]) or (target > nums[r]):\n",
    "                # Search left\n",
    "                r = m-1\n",
    "            else:\n",
    "                # Search right\n",
    "                l = m + 1\n",
    "            \n",
    "    return res"
   ]
  },
  {
   "cell_type": "code",
   "execution_count": 3,
   "id": "745359a9-9f77-4af7-97b0-ead40c75d541",
   "metadata": {},
   "outputs": [],
   "source": [
    "index = solution([3,5,6,0,1,2], 4)"
   ]
  },
  {
   "cell_type": "code",
   "execution_count": 4,
   "id": "78621ba7-3611-4888-a6cf-77bf93b480a9",
   "metadata": {},
   "outputs": [
    {
     "data": {
      "text/plain": [
       "-1"
      ]
     },
     "execution_count": 4,
     "metadata": {},
     "output_type": "execute_result"
    }
   ],
   "source": [
    "index"
   ]
  },
  {
   "cell_type": "code",
   "execution_count": null,
   "id": "548a59ae-1239-4dd1-ac7f-26349d9c4a69",
   "metadata": {},
   "outputs": [],
   "source": []
  }
 ],
 "metadata": {
  "kernelspec": {
   "display_name": "Python 3 (ipykernel)",
   "language": "python",
   "name": "python3"
  },
  "language_info": {
   "codemirror_mode": {
    "name": "ipython",
    "version": 3
   },
   "file_extension": ".py",
   "mimetype": "text/x-python",
   "name": "python",
   "nbconvert_exporter": "python",
   "pygments_lexer": "ipython3",
   "version": "3.12.4"
  }
 },
 "nbformat": 4,
 "nbformat_minor": 5
}
