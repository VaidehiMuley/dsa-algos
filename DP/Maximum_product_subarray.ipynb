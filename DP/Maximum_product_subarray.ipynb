{
 "cells": [
  {
   "cell_type": "markdown",
   "id": "becc5314-839e-4229-ae16-d7a9050cfb4d",
   "metadata": {},
   "source": [
    "## Maximum Product Subarray\n",
    "\n",
    "- Given an integer array nums, find a subarray that has the largest product within the array and return it.\n",
    "- A subarray is a contiguous non-empty sequence of elements within an array.\n",
    "- You can assume the output will fit into a 32-bit integer."
   ]
  },
  {
   "cell_type": "code",
   "execution_count": null,
   "id": "7a8e56f0-9e39-4808-9165-3c2b07ac627e",
   "metadata": {},
   "outputs": [],
   "source": [
    "class MaxSubArray:\n",
    "    def solution(self,arr):\n",
    "        "
   ]
  }
 ],
 "metadata": {
  "kernelspec": {
   "display_name": "Python 3 (ipykernel)",
   "language": "python",
   "name": "python3"
  },
  "language_info": {
   "codemirror_mode": {
    "name": "ipython",
    "version": 3
   },
   "file_extension": ".py",
   "mimetype": "text/x-python",
   "name": "python",
   "nbconvert_exporter": "python",
   "pygments_lexer": "ipython3",
   "version": "3.12.4"
  }
 },
 "nbformat": 4,
 "nbformat_minor": 5
}
