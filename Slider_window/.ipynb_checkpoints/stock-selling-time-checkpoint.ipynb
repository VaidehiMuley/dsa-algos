{
 "cells": [
  {
   "cell_type": "markdown",
   "id": "8a62fb89-4232-4e30-9e78-e2922c2019cc",
   "metadata": {},
   "source": [
    "## Best time to buy & sell stocks\n",
    "\n",
    "You are given everyday's stock prices, what will be the max profit"
   ]
  },
  {
   "cell_type": "code",
   "execution_count": null,
   "id": "847d8dbc-f088-4c7e-bed5-0cddcff93a5f",
   "metadata": {},
   "outputs": [],
   "source": [
    "\n",
    "class MaxProfit:\n",
    "    def __init__(self):\n",
    "        ## Create left ptr for buying and right pointer for selling\n",
    "        self.profit = 0\n",
    "        \n",
    "    def solution(self, arr):\n",
    "        ## Check if buying price is less than selling, if not, move the pointer to right\n",
    "        for i in arr:\n",
    "            for j in arr[1:]:\n",
    "                # Check if buying price is less than selling, if not, move the pointer to right\n",
    "                if i > j:\n",
    "                    continue\n",
    "                else:\n",
    "                    ## If the buying price is less than selling, keep the buying point constant and update the profit variable if it's max \n",
    "                    profit = j-i\n",
    "                    if self.profit < profit:\n",
    "                        self.profit = profit\n",
    "                        continue\n",
    "        return self.profit\n",
    "                    \n",
    "            \n",
    "        \n",
    "        \n",
    "\n",
    "\n",
    "\n"
   ]
  },
  {
   "cell_type": "code",
   "execution_count": null,
   "id": "c464d612-c60c-4cf9-a687-8789d07f3bf0",
   "metadata": {},
   "outputs": [],
   "source": []
  }
 ],
 "metadata": {
  "kernelspec": {
   "display_name": "Python 3 (ipykernel)",
   "language": "python",
   "name": "python3"
  },
  "language_info": {
   "codemirror_mode": {
    "name": "ipython",
    "version": 3
   },
   "file_extension": ".py",
   "mimetype": "text/x-python",
   "name": "python",
   "nbconvert_exporter": "python",
   "pygments_lexer": "ipython3",
   "version": "3.12.4"
  }
 },
 "nbformat": 4,
 "nbformat_minor": 5
}
