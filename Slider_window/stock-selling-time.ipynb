{
 "cells": [
  {
   "cell_type": "markdown",
   "id": "8a62fb89-4232-4e30-9e78-e2922c2019cc",
   "metadata": {},
   "source": [
    "## Best time to buy & sell stocks\n",
    "\n",
    "You are given everyday's stock prices, what will be the max profit"
   ]
  },
  {
   "cell_type": "code",
   "execution_count": 1,
   "id": "847d8dbc-f088-4c7e-bed5-0cddcff93a5f",
   "metadata": {},
   "outputs": [],
   "source": [
    "\n",
    "class MaxProfit:\n",
    "    def __init__(self):\n",
    "        ## Create left ptr for buying and right pointer for selling\n",
    "        self.l = 0\n",
    "        self.r = 1\n",
    "        self.profit = 0\n",
    "        \n",
    "    def solution(self, arr):\n",
    "        while self.r < len(arr):\n",
    "            ## Check if buying price is lesser than selling price. If so, update the profit\n",
    "            if arr[self.l] < arr[self.r]:\n",
    "                profit = arr[self.r - self.l\n",
    "                self.profit = max(self.profit, profit)\n",
    "            else : \n",
    "                self.l = self.r\n",
    "            self.r +=1\n",
    "        return self.profit\n"
   ]
  },
  {
   "cell_type": "code",
   "execution_count": 3,
   "id": "c464d612-c60c-4cf9-a687-8789d07f3bf0",
   "metadata": {},
   "outputs": [],
   "source": [
    "profit_optimiser = MaxProfit()\n",
    "max_profit = profit_optimiser.solution([7,1,5,3,6,4])\n"
   ]
  },
  {
   "cell_type": "code",
   "execution_count": 4,
   "id": "2f92a59e-d490-411b-b693-57d86ea9ceae",
   "metadata": {},
   "outputs": [
    {
     "data": {
      "text/plain": [
       "4"
      ]
     },
     "execution_count": 4,
     "metadata": {},
     "output_type": "execute_result"
    }
   ],
   "source": [
    "max_profit"
   ]
  },
  {
   "cell_type": "code",
   "execution_count": null,
   "id": "745af519-cf36-417f-94ed-2a6b53991c5b",
   "metadata": {},
   "outputs": [],
   "source": []
  }
 ],
 "metadata": {
  "kernelspec": {
   "display_name": "Python 3 (ipykernel)",
   "language": "python",
   "name": "python3"
  },
  "language_info": {
   "codemirror_mode": {
    "name": "ipython",
    "version": 3
   },
   "file_extension": ".py",
   "mimetype": "text/x-python",
   "name": "python",
   "nbconvert_exporter": "python",
   "pygments_lexer": "ipython3",
   "version": "3.12.4"
  }
 },
 "nbformat": 4,
 "nbformat_minor": 5
}
