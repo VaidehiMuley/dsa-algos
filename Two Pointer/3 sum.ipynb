{
 "cells": [
  {
   "cell_type": "markdown",
   "id": "c708d88d-bffb-4448-9cde-417cfc218e61",
   "metadata": {},
   "source": [
    "## 3 Sum\n",
    "\n",
    "- Given an integer array nums, return all the triplets [nums[i], nums[j], nums[k]] where nums[i] + nums[j] + nums[k] == 0, \n",
    "and the indices i, j and k are all distinct.\n",
    "\n",
    "- The output should not contain any duplicate triplets. \n",
    "- You may return the output and the triplets in any order.\n",
    "\n"
   ]
  },
  {
   "cell_type": "code",
   "execution_count": 4,
   "id": "1231c4a9-46d9-48f6-b35d-5788f0e0d0f1",
   "metadata": {},
   "outputs": [],
   "source": [
    "class ThreeSum:\n",
    "    def __init__(self):\n",
    "        pass\n",
    "\n",
    "    def threesum(self, nums):\n",
    "        ## sort the input array\n",
    "        nums.sort()\n",
    "        res = []\n",
    "\n",
    "        for idx, i in enumerate(nums):\n",
    "\n",
    "            ## Break if first element is positive - since it's the smallest element and if it's\n",
    "            ## positive, all elements must be positive, therefore no need to check\n",
    "\n",
    "            if i >0:\n",
    "                break\n",
    "\n",
    "            ## continue if the element is same as the prev element\n",
    "            if idx > 0 and i == nums[idx -1]:\n",
    "                continue\n",
    "                \n",
    "            ## assign left and right pointer\n",
    "            l,r = idx+1, len(nums)-1\n",
    "\n",
    "            while l < r:\n",
    "                threesum_val = i+nums[l]+nums[r]\n",
    "                \n",
    "                ## If sum < 0 , increase left pointer\n",
    "                if threesum_val < 0:\n",
    "                    l +=1\n",
    "\n",
    "                ## If sum > 0 , increase right pointer\n",
    "                elif threesum_val > 0:\n",
    "                    r -=1\n",
    "\n",
    "                ## If sum = 0, then append to result\n",
    "                else:\n",
    "                    res.append([i, nums[l], nums[r]])\n",
    "                    ## update and if nums[l] == nums[l+1], skip\n",
    "                    l +=1\n",
    "                    r -= 1\n",
    "                    while nums[l] == nums[l-1] and l< r:\n",
    "                        l +=1\n",
    "        return res\n",
    "                \n",
    "\n",
    "            \n",
    "                    \n",
    "                    \n",
    "        "
   ]
  },
  {
   "cell_type": "code",
   "execution_count": 11,
   "id": "95706aaa-c210-43e4-91aa-f0ca048cfd27",
   "metadata": {},
   "outputs": [],
   "source": [
    "from typing import List\n",
    "\n",
    "class Solution:\n",
    "    def threeSum(self, nums: List[int]) -> List[List[int]]:\n",
    "        res = []\n",
    "        nums.sort()\n",
    "\n",
    "        for i, a in enumerate(nums):\n",
    "            if a > 0:\n",
    "                break\n",
    "\n",
    "            if i > 0 and a == nums[i - 1]:\n",
    "                continue\n",
    "\n",
    "            l, r = i + 1, len(nums) - 1\n",
    "            while l < r:\n",
    "                threeSum = a + nums[l] + nums[r]\n",
    "                if threeSum > 0:\n",
    "                    r -= 1\n",
    "                elif threeSum < 0:\n",
    "                    l += 1\n",
    "                else:\n",
    "                    res.append([a, nums[l], nums[r]])\n",
    "                    l += 1\n",
    "                    r -= 1\n",
    "                    while nums[l] == nums[l - 1] and l < r:\n",
    "                        l += 1\n",
    "\n",
    "        return res"
   ]
  },
  {
   "cell_type": "code",
   "execution_count": 5,
   "id": "c91f663f-b319-49ff-849b-d5b05f805bc3",
   "metadata": {},
   "outputs": [],
   "source": [
    "ts = ThreeSum()\n",
    "result = ts.threesum(nums = [-3,0,7,5,2,1])"
   ]
  },
  {
   "cell_type": "code",
   "execution_count": 6,
   "id": "77aff8f5-7212-4a88-afb9-d825501bb660",
   "metadata": {},
   "outputs": [
    {
     "data": {
      "text/plain": [
       "[[-3, 1, 2]]"
      ]
     },
     "execution_count": 6,
     "metadata": {},
     "output_type": "execute_result"
    }
   ],
   "source": [
    "result"
   ]
  },
  {
   "cell_type": "code",
   "execution_count": 12,
   "id": "2ed47cf8-9ca2-4b21-ace0-5b4594d37122",
   "metadata": {},
   "outputs": [],
   "source": [
    "nums=[0,0,0]\n",
    "ts = Solution()\n",
    "result = ts.threeSum(nums)"
   ]
  },
  {
   "cell_type": "code",
   "execution_count": 13,
   "id": "7aef3c24-9f46-4c32-b06e-878fc5b85ce1",
   "metadata": {},
   "outputs": [
    {
     "data": {
      "text/plain": [
       "[[0, 0, 0]]"
      ]
     },
     "execution_count": 13,
     "metadata": {},
     "output_type": "execute_result"
    }
   ],
   "source": [
    "result"
   ]
  },
  {
   "cell_type": "code",
   "execution_count": null,
   "id": "39974948-e5af-4847-af4c-380037b8dfbd",
   "metadata": {},
   "outputs": [],
   "source": []
  }
 ],
 "metadata": {
  "kernelspec": {
   "display_name": "Python 3 (ipykernel)",
   "language": "python",
   "name": "python3"
  },
  "language_info": {
   "codemirror_mode": {
    "name": "ipython",
    "version": 3
   },
   "file_extension": ".py",
   "mimetype": "text/x-python",
   "name": "python",
   "nbconvert_exporter": "python",
   "pygments_lexer": "ipython3",
   "version": "3.12.4"
  }
 },
 "nbformat": 4,
 "nbformat_minor": 5
}
